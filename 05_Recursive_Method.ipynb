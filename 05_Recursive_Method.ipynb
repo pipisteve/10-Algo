{
 "cells": [
  {
   "cell_type": "code",
   "execution_count": 27,
   "metadata": {},
   "outputs": [
    {
     "name": "stdout",
     "output_type": "stream",
     "text": [
      "120 的分解為 [2, 2, 2, 3, 5] 質因數有3個，為 [2, 3, 5]\n"
     ]
    }
   ],
   "source": [
    "### 遞歸法(Recursive Method)\n",
    "# 質因數分解(interger factorization)\n",
    "a = 120\n",
    "max = a # 留下最大值\n",
    "primes = [prime for prime in range(2, max) if all(prime % num for num in range(2, prime))] # 建立質數表\n",
    "\n",
    "b = [] # 質因數表\n",
    "count = 0 # 計算次數用以驗算\n",
    "d = [] # 質因數分解列表\n",
    "\n",
    "for p in primes:\n",
    "    if p <= a and a % p ==0:\n",
    "        b.append(p)\n",
    "\n",
    "e = len(b)\n",
    "for c in b:\n",
    "    while a % c == 0:\n",
    "        a = a / c\n",
    "        count += 1\n",
    "        d.append(c)\n",
    "\n",
    "print('%d 的分解為'%max, d, '質因數有%s個，為'%e, b)"
   ]
  },
  {
   "cell_type": "code",
   "execution_count": null,
   "metadata": {},
   "outputs": [],
   "source": [
    "# 碎形(fractal)\n",
    "# sierpinski triangle 在凡是尖端朝上三角形內置放一尖端朝下三角形"
   ]
  },
  {
   "cell_type": "code",
   "execution_count": null,
   "metadata": {},
   "outputs": [],
   "source": [
    "# L型磁磚(tiling with L-shaped tiles)\n",
    "# 有一邊長為2**3的正方形地板，右上缺一格(或缺任一格)，以一L型磁磚貼，怎麼貼？"
   ]
  },
  {
   "cell_type": "code",
   "execution_count": 30,
   "metadata": {},
   "outputs": [
    {
     "name": "stdout",
     "output_type": "stream",
     "text": [
      "75 與 45\n",
      "最大公因數為 15\n"
     ]
    }
   ],
   "source": [
    "# 輾轉相除法(Euclid's algorithm)\n",
    "# 求最大公因數 get greatest common divisor\n",
    "j = 75 # 預設 j 比 k 大\n",
    "k = 45\n",
    "print(j, '與', k)\n",
    "while k != 0:\n",
    "    l = j % k\n",
    "    j = k\n",
    "    k = l\n",
    "print('最大公因數為', j)"
   ]
  },
  {
   "cell_type": "code",
   "execution_count": null,
   "metadata": {},
   "outputs": [],
   "source": [
    "### 遞推法與遞歸法密不可分\n",
    "# 遞推法：小到大，以已知推未知\n",
    "# 遞歸法：大到小，拆解未知直至精確\n",
    "\n",
    "# 秦九韶演算法(Horner's Rule)\n",
    "# f(x) = 6x**2 + 4x + 2\n",
    "# f(3) = ((6) * 3 + 4) *3 + 2"
   ]
  },
  {
   "cell_type": "code",
   "execution_count": 35,
   "metadata": {
    "scrolled": true
   },
   "outputs": [
    {
     "name": "stdout",
     "output_type": "stream",
     "text": [
      "[162, 81, 45, 21, 11]\n",
      "320\n"
     ]
    }
   ],
   "source": [
    "# f(x) = 2x**4 + 3x**3 + 5x**2 + 7x + 11\n",
    "# 求 f(3) = ((((2x*4) + 3*3)*x + 5)*x + 7)*x + 11\n",
    "x = 3 \n",
    "y = 4 # 最高項\n",
    "z = [2, 3, 5, 7, 11] # 常數\n",
    "c = [] # 每一項\n",
    "for a in z:\n",
    "    b = a * x ** y\n",
    "    c.append(b)\n",
    "    y -= 1\n",
    "d = sum(c) # 每一項的和，即解答\n",
    "print(c)\n",
    "print(d)"
   ]
  },
  {
   "cell_type": "code",
   "execution_count": 36,
   "metadata": {},
   "outputs": [
    {
     "name": "stdout",
     "output_type": "stream",
     "text": [
      "-90\n"
     ]
    }
   ],
   "source": [
    "# 解析 ((2+3)*((4+5)*2))*(-1)\n",
    "a = 4+5\n",
    "a = a*2\n",
    "a = a*(2+3)\n",
    "a = a*(-1)\n",
    "print(a)"
   ]
  }
 ],
 "metadata": {
  "kernelspec": {
   "display_name": "Python 3",
   "language": "python",
   "name": "python3"
  },
  "language_info": {
   "codemirror_mode": {
    "name": "ipython",
    "version": 3
   },
   "file_extension": ".py",
   "mimetype": "text/x-python",
   "name": "python",
   "nbconvert_exporter": "python",
   "pygments_lexer": "ipython3",
   "version": "3.7.3"
  }
 },
 "nbformat": 4,
 "nbformat_minor": 2
}
