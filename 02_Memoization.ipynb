{
 "cells": [
  {
   "cell_type": "code",
   "execution_count": 2,
   "metadata": {},
   "outputs": [
    {
     "name": "stdout",
     "output_type": "stream",
     "text": [
      "[0, 1, 8, 27, 64, 125, 216, 343, 512, 729, 1000]\n",
      "3025\n"
     ]
    }
   ],
   "source": [
    "### 2-1 預處理、記憶法、查詢表\n",
    "# 累加利方數\n",
    "i = range(10 + 1)\n",
    "b = []\n",
    "for i in i:\n",
    "    i = i ** 3\n",
    "    b.append(i)\n",
    "s = sum(b)\n",
    "print(b)\n",
    "print(s)"
   ]
  },
  {
   "cell_type": "code",
   "execution_count": null,
   "metadata": {},
   "outputs": [],
   "source": [
    "'''\n",
    "預處理：能確定的先算好，之後不再做計算。\n",
    "\n",
    "記憶法：遇到再算，不做多餘計算\n",
    "'''"
   ]
  },
  {
   "cell_type": "code",
   "execution_count": 4,
   "metadata": {},
   "outputs": [],
   "source": [
    "### 2-2 查詢表的格式及運用\n",
    "# 質數表\n",
    "# 1. 建立質數矩陣\n",
    "f = 120\n",
    "max = f # 留下最大值\n",
    "primes = [prime for prime in range(2, max) if all(prime % num for num in range(2, prime))] # 建立質數表"
   ]
  },
  {
   "cell_type": "code",
   "execution_count": 5,
   "metadata": {},
   "outputs": [
    {
     "name": "stdout",
     "output_type": "stream",
     "text": [
      "[2, 3, 5, 7, 11, 13, 17, 19, 23, 29, 31, 37, 41, 43, 47, 53, 59, 61, 67, 71, 73, 79, 83, 89, 97, 101, 103, 107, 109, 113]\n",
      "[0, 1, 2, 3, 4, 5, 6, 7, 8, 9, 10, 11, 12, 13, 14, 15, 16, 17, 18, 19, 20, 21, 22, 23, 24, 25, 26, 27, 28, 29, 30]\n",
      "[False, False, True, True, False, True, False, True, False, False, False, True, False, True, False, False, False, True, False, True, False, False, False, True, False, False, False, False, False, True, False]\n"
     ]
    }
   ],
   "source": [
    "# 2. 存成布林值列表\n",
    "print(primes)\n",
    "a = []\n",
    "b = [] # 布林值質數表\n",
    "for i in range(0, 31):\n",
    "    a.append(i)\n",
    "print(a)\n",
    "for a in a:\n",
    "    if a in primes:\n",
    "        c = True\n",
    "        b.append(c)\n",
    "    else:\n",
    "        c = False\n",
    "        b.append(c)\n",
    "\n",
    "print(b)"
   ]
  },
  {
   "cell_type": "code",
   "execution_count": 91,
   "metadata": {},
   "outputs": [
    {
     "name": "stdout",
     "output_type": "stream",
     "text": [
      "{'a': 0, 'b': 0, 'c': 0, 'd': 1, 'e': 1, 'f': 0, 'g': 0, 'h': 1, 'i': 0, 'j': 0, 'k': 0, 'l': 3, 'm': 0, 'n': 0, 'o': 2, 'p': 0, 'q': 0, 'r': 1, 's': 0, 't': 0, 'u': 0, 'v': 0, 'w': 1, 'x': 0, 'y': 0, 'z': 0}\n"
     ]
    }
   ],
   "source": [
    "# 統計字母出現次數\n",
    "a = []\n",
    "for w in range(ord('a'), ord('z') + 1):\n",
    "    a.append(chr(w))\n",
    "\n",
    "s = 'Hello World!'\n",
    "s = s.lower()\n",
    "s = s.strip('!')\n",
    "s = s.replace(\" \", \"\")\n",
    "\n",
    "res = {}\n",
    "for a in a:\n",
    "    res[a] = 0\n",
    "def count_each_char_1(string):\n",
    "    for i in string:\n",
    "        if i not in res:\n",
    "            res[i] = 1\n",
    "        else:\n",
    "            res[i] += 1\n",
    "    return res\n",
    " \n",
    "print(count_each_char_1(s))"
   ]
  },
  {
   "cell_type": "code",
   "execution_count": null,
   "metadata": {},
   "outputs": [],
   "source": [
    "### 2-3 與程式語言有關的預處理與記憶法\n",
    "# 拆開迴圈(loop unrolling)\n",
    "\n",
    "# 資料結構的資料數量\n",
    "# 許多資料結構會使用記憶法，使用含是褲之前最好仔細閱讀說明文件以免誤用不知"
   ]
  },
  {
   "cell_type": "code",
   "execution_count": 111,
   "metadata": {},
   "outputs": [
    {
     "name": "stdout",
     "output_type": "stream",
     "text": [
      "[1, 3, 5, 7, 9, 7, 5, 3, 1]\n",
      "    A\n",
      "   AAA\n",
      "  AAAAA\n",
      " AAAAAAA\n",
      "AAAAAAAAA\n",
      " AAAAAAA\n",
      "  AAAAA\n",
      "   AAA\n",
      "    A\n"
     ]
    }
   ],
   "source": [
    "### 想想看\n",
    "# 1. 印出菱形(嘗試用預處理印) 2. 使用者輸入還能印出菱形嗎？\n",
    "# 印出菱形\n",
    "a = 5 # 邊長，可讓使用者輸入\n",
    "m = (a - 1) + a # m 為中心線長，即要印出的最長行\n",
    "\n",
    "i = []\n",
    "j = []\n",
    "for a in range(1, a+1): # 第一行到最長行\n",
    "    b = (a - 1) + a\n",
    "    i.append(b)\n",
    "\n",
    "for c in range(0, a-1): # 最長行下一行至最後\n",
    "    j.append(i[-(a-c)])\n",
    "j.reverse()\n",
    "\n",
    "i = i + j \n",
    "print(i)\n",
    "\n",
    "for i in i: # 補空格印菱形\n",
    "    if i < m:\n",
    "        s = (m - i) / 2\n",
    "        s = int(s)\n",
    "        print(' ' * s + 'A' * i)\n",
    "    elif i == m:\n",
    "        print('A' * i)\n",
    "    else:\n",
    "        s = (m - i) / 2\n",
    "        print(' ' * s + 'A' * i)  "
   ]
  },
  {
   "cell_type": "code",
   "execution_count": null,
   "metadata": {},
   "outputs": [],
   "source": []
  }
 ],
 "metadata": {
  "kernelspec": {
   "display_name": "Python 3",
   "language": "python",
   "name": "python3"
  },
  "language_info": {
   "codemirror_mode": {
    "name": "ipython",
    "version": 3
   },
   "file_extension": ".py",
   "mimetype": "text/x-python",
   "name": "python",
   "nbconvert_exporter": "python",
   "pygments_lexer": "ipython3",
   "version": "3.7.3"
  }
 },
 "nbformat": 4,
 "nbformat_minor": 2
}
