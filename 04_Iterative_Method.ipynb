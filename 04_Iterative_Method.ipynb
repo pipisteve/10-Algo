{
 "cells": [
  {
   "cell_type": "code",
   "execution_count": 9,
   "metadata": {},
   "outputs": [
    {
     "name": "stdout",
     "output_type": "stream",
     "text": [
      "26962869\n",
      "26962869\n"
     ]
    }
   ],
   "source": [
    "### 遞推法\n",
    "# 字串轉換成為整數變數\n",
    "\n",
    "a = '26962869'\n",
    "b = int(a)\n",
    "print(b)\n",
    "    count += 1\n",
    "\n",
    "d = 0\n",
    "for c in a:\n",
    "    c = int(c)\n",
    "    d = d * 10 + c\n",
    "print(d)"
   ]
  },
  {
   "cell_type": "code",
   "execution_count": 27,
   "metadata": {},
   "outputs": [
    {
     "name": "stdout",
     "output_type": "stream",
     "text": [
      "原始值為: 77\n",
      "最終值為: 1 遞推次數: 22\n"
     ]
    }
   ],
   "source": [
    "# 3n+1 猜想(Collaz Conjecture) 假設：任正整數，奇數*3+1，偶數/2，最終得1\n",
    "n = 77\n",
    "count = 0\n",
    "print('原始值為:', n)\n",
    "while n != 1:\n",
    "    if n % 2 == 0:\n",
    "        n = n / 2\n",
    "    else:\n",
    "        n = n * 3 + 1\n",
    "    count += 1\n",
    "    n = int(n)\n",
    "    # print('目前值為: %s'%n, '，第%d次遞推'%count)\n",
    "\n",
    "print('最終值為:', n, '遞推次數:', count)"
   ]
  },
  {
   "cell_type": "code",
   "execution_count": 56,
   "metadata": {},
   "outputs": [
    {
     "name": "stdout",
     "output_type": "stream",
     "text": [
      "0.018867924528301886\n",
      "[1, 10, 47, 46, 36, 42, 49, 13, 24, 28, 15, 44, 16]\n",
      "循環節從第14節開始\n"
     ]
    }
   ],
   "source": [
    "# 循環小數的循環節(Repeating Decimal)\n",
    "e = 1 # 被除數\n",
    "f = 53 # 除數\n",
    "g = [] # 紀錄餘數\n",
    "count = 0\n",
    "print(e / f)\n",
    "while e != 0:\n",
    "    h = e % f\n",
    "    j = e / f\n",
    "    e = h * 10\n",
    "    count += 1\n",
    "    if h in g:\n",
    "        break\n",
    "    else:\n",
    "        g.append(h)\n",
    "print(g)\n",
    "print('循環節從第%d節開始'%count)"
   ]
  },
  {
   "cell_type": "code",
   "execution_count": 86,
   "metadata": {},
   "outputs": [
    {
     "name": "stdout",
     "output_type": "stream",
     "text": [
      "[2, 3, 5, 7, 9, 11, 13, 15, 17, 19, 21, 23]\n",
      "[1, 2, 3, 4, 5, 6, 7, 8, 9, 10, 11, 12, 13, 14, 15, 16, 17, 18, 19, 20, 21, 22, 23]\n",
      "[False, True, True, False, True, False, True, False, True, False, True, False, True, False, True, False, True, False, True, False, True, False, True]\n",
      "1不是質數\n",
      "2是質數\n",
      "3是質數\n",
      "4不是質數\n",
      "5是質數\n",
      "6不是質數\n",
      "7是質數\n",
      "8不是質數\n",
      "9是質數\n",
      "10不是質數\n",
      "11是質數\n",
      "12不是質數\n",
      "13是質數\n",
      "14不是質數\n",
      "15是質數\n",
      "16不是質數\n",
      "17是質數\n",
      "18不是質數\n",
      "19是質數\n",
      "20不是質數\n",
      "21是質數\n",
      "22不是質數\n",
      "23是質數\n"
     ]
    }
   ],
   "source": [
    "# 以試除法建立質數表?????\n",
    "z = 23 #設定變數\n",
    "z = z + 1\n",
    "num = [] # 質數表\n",
    "i = 2\n",
    "num.append(i)\n",
    "for i in range(2, z):\n",
    "    j = 2\n",
    "    for j in range(2, i):\n",
    "        if(i % j == 0):\n",
    "            break\n",
    "        else:\n",
    "            num.append(i)\n",
    "\n",
    "import numpy as np\n",
    "n = np.unique(num)\n",
    "p = [] # 質數表\n",
    "for n in n:\n",
    "    p.append(n)\n",
    "print(p)\n",
    "\n",
    "a = [] # 整數表\n",
    "for b in range(1, z):\n",
    "    a.append(b)\n",
    "\n",
    "e = []\n",
    "for c in a:\n",
    "    if c in p:\n",
    "        d = True\n",
    "    else:\n",
    "        d = False\n",
    "    e.append(d)\n",
    "print(a)\n",
    "print(e)\n",
    "\n",
    "g = 1\n",
    "for f in e:\n",
    "    if f == True:\n",
    "        print('%d是質數'%g)\n",
    "    else:\n",
    "        print('%d不是質數'%g)\n",
    "    g += 1"
   ]
  }
 ],
 "metadata": {
  "kernelspec": {
   "display_name": "Python 3",
   "language": "python",
   "name": "python3"
  },
  "language_info": {
   "codemirror_mode": {
    "name": "ipython",
    "version": 3
   },
   "file_extension": ".py",
   "mimetype": "text/x-python",
   "name": "python",
   "nbconvert_exporter": "python",
   "pygments_lexer": "ipython3",
   "version": "3.7.3"
  }
 },
 "nbformat": 4,
 "nbformat_minor": 2
}
