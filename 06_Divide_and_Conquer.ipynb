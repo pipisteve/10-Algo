{
 "cells": [
  {
   "cell_type": "code",
   "execution_count": 24,
   "metadata": {},
   "outputs": [],
   "source": [
    "# 分治法 與 遞歸法 系出同源\n",
    "# 分治法 程式可視為三部分 Divide, Conquer, Combine"
   ]
  },
  {
   "cell_type": "code",
   "execution_count": 25,
   "metadata": {},
   "outputs": [
    {
     "name": "stdout",
     "output_type": "stream",
     "text": [
      "1 5.0\n",
      "2 2.5\n",
      "3 3.75\n",
      "4 3.125\n",
      "5 3.4375\n",
      "6 3.28125\n",
      "7 3.203125\n",
      "8 3.1640625\n",
      "9 3.14453125\n",
      "10 3.154296875\n",
      "11 3.1591796875\n",
      "12 3.16162109375\n",
      "13 3.162841796875\n",
      "14 3.1622314453125\n",
      "15 3.16253662109375\n",
      "16 3.162384033203125\n",
      "17 3.1623077392578125\n",
      "18 3.1622695922851562\n",
      "19 3.1622886657714844\n",
      "20 3.1622791290283203\n",
      "21 3.1622743606567383\n",
      "22 3.1622767448425293\n",
      "23 3.162277936935425\n",
      "24 3.162277340888977\n",
      "25 3.162277638912201\n",
      "26 3.162277787923813\n",
      "27 3.162277713418007\n",
      "28 3.162277676165104\n",
      "29 3.1622776575386524\n",
      "30 3.162277666851878\n",
      "31 3.1622776621952653\n",
      "32 3.162277659866959\n",
      "33 3.162277661031112\n",
      "34 3.1622776604490355\n",
      "35 3.162277660157997\n",
      "36 3.1622776603035163\n",
      "37 3.1622776602307567\n",
      "38 3.162277660194377\n",
      "39 3.162277660176187\n",
      "40 3.162277660167092\n",
      "41 3.1622776601716396\n",
      "42 3.162277660169366\n",
      "43 3.162277660168229\n",
      "44 3.1622776601687974\n",
      "45 3.162277660168513\n",
      "3.162277660168371\n",
      "3.1622776601\n"
     ]
    }
   ],
   "source": [
    "# 試著設計十分逼近法的程式碼，並求出根號 10 的數值，無條件捨去至小數第 10 位。\n",
    "import math\n",
    "from math import sqrt\n",
    " \n",
    "def sqrt_binary(num):\n",
    "    x = sqrt(num)\n",
    "    y = num / 2.0\n",
    "    low = 0.0\n",
    "    up = num * 1.0\n",
    "    count = 1\n",
    "    while abs(y-x) > 0.0000000000001:\n",
    "        print(count, y)\n",
    "        count += 1\n",
    "        if (y*y > num):\n",
    "            up = y\n",
    "            y = low + (y-low)/2\n",
    "        else:\n",
    "            low = y\n",
    "            y = up-(up-y)/2\n",
    "    return y\n",
    " \n",
    "print(sqrt_binary(10))\n",
    "\n",
    "c = sqrt(10)\n",
    "c = str(c)\n",
    "c = c[:12]\n",
    "print(c)"
   ]
  },
  {
   "cell_type": "code",
   "execution_count": 32,
   "metadata": {},
   "outputs": [
    {
     "name": "stdout",
     "output_type": "stream",
     "text": [
      "一百二十三萬四千五百六十七\n"
     ]
    }
   ],
   "source": [
    "# 輸入數字得讀法\n",
    "# 1234567 \n",
    "z = 1234567\n",
    "\n",
    "num=['零','一','二','三','四','五','六','七','八','九'] \n",
    "k=['零','十','百','千','萬','十','百']\n",
    "import math\n",
    "def turn(x, y):\n",
    "    if y >= 1:\n",
    "        a = x // pow(10, y)\n",
    "        b = x % pow(10, y)\n",
    "        c = num[a] + k[y]\n",
    "        if y > 4 and b < pow(10,4):\n",
    "            c += k[4]\n",
    "        if (len(str(x)) - len(str(b))) >= 2 and b != 0:\n",
    "            c += k[0]\n",
    "    else:\n",
    "        a = x\n",
    "        b = 0\n",
    "        c = num[a] \n",
    "    return (c,b)\n",
    "\n",
    "def tstr(x):\n",
    "    c = turn(x,(len(str(x))-1))\n",
    "    a = c[0]\n",
    "    b = c[1]\n",
    "    while b != 0:\n",
    "        a += turn(b,(len(str(b))-1))[0]\n",
    "        b = turn(b,(len(str(b))-1))[1] \n",
    "    return a\n",
    "\n",
    "print(tstr(z))         "
   ]
  },
  {
   "cell_type": "code",
   "execution_count": 33,
   "metadata": {},
   "outputs": [
    {
     "name": "stdout",
     "output_type": "stream",
     "text": [
      "8\n"
     ]
    }
   ],
   "source": [
    "# 一枚硬幣投擲 N 次\n",
    "N = 3\n",
    "a = pow(2, N)\n",
    "print(a)"
   ]
  },
  {
   "cell_type": "code",
   "execution_count": 39,
   "metadata": {},
   "outputs": [
    {
     "name": "stdout",
     "output_type": "stream",
     "text": [
      "93326215443944152681699238856266700490715968264381621468592963895217599993229915608941463976156518286253697920827223758251185210916864000000000000000000000000\n"
     ]
    }
   ],
   "source": [
    "# 100!遞迴公式\n",
    "d = 1\n",
    "for c in range(1, 100 + 1):\n",
    "    d = c * d\n",
    "print(d)"
   ]
  }
 ],
 "metadata": {
  "kernelspec": {
   "display_name": "Python 3",
   "language": "python",
   "name": "python3"
  },
  "language_info": {
   "codemirror_mode": {
    "name": "ipython",
    "version": 3
   },
   "file_extension": ".py",
   "mimetype": "text/x-python",
   "name": "python",
   "nbconvert_exporter": "python",
   "pygments_lexer": "ipython3",
   "version": "3.7.3"
  }
 },
 "nbformat": 4,
 "nbformat_minor": 2
}
