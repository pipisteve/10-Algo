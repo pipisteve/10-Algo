{
 "cells": [
  {
   "cell_type": "code",
   "execution_count": 11,
   "metadata": {},
   "outputs": [
    {
     "name": "stdout",
     "output_type": "stream",
     "text": [
      "[20, 66, 101, 123, 456, 777, 987]\n"
     ]
    }
   ],
   "source": [
    "### 縮放法\n",
    "\n",
    "# 基數排序法 Radix Sort\n",
    "# 依序個位數排序、十位數排序、百位數排序，最終得正確結果\n",
    "\n",
    "def RadixSort(A):\n",
    "    RADIX = 10\n",
    "    maxLength = False\n",
    "    tmp, placement = -1, 1\n",
    "\n",
    "    while not maxLength:\n",
    "        maxLength = True\n",
    "        buckets = [list() for _ in range(RADIX)]\n",
    "        for i in A:\n",
    "            i = int(i)\n",
    "            tmp = int(i / placement)\n",
    "            buckets[tmp % RADIX].append(i)\n",
    "            if maxLength and tmp > 0:\n",
    "                maxLength = False\n",
    "\n",
    "        a = 0\n",
    "        for b in range(RADIX):\n",
    "            buck = buckets[b]\n",
    "            for i in buck:\n",
    "                A[a] = i\n",
    "                a += 1\n",
    "        placement *= RADIX\n",
    "    return A\n",
    "A = [123, 987, 20, 66, 456, 777, 101]\n",
    "\n",
    "print(RadixSort(A))"
   ]
  },
  {
   "cell_type": "code",
   "execution_count": 12,
   "metadata": {},
   "outputs": [
    {
     "name": "stdout",
     "output_type": "stream",
     "text": [
      "[20, 66, 101, 123, 456, 777, 987]\n"
     ]
    }
   ],
   "source": [
    "# 基數排序法 Radix Sort\n",
    "# 改成二進位\n",
    "\n",
    "def RadixSort(A):\n",
    "    RADIX = 2\n",
    "    maxLength = False\n",
    "    tmp, placement = -1, 1\n",
    "\n",
    "    while not maxLength:\n",
    "        maxLength = True\n",
    "        buckets = [list() for _ in range(RADIX)]\n",
    "        for i in A:\n",
    "            i = int(i)\n",
    "            tmp = int(i / placement)\n",
    "            buckets[tmp % RADIX].append(i)\n",
    "            if maxLength and tmp > 0:\n",
    "                maxLength = False\n",
    "\n",
    "        a = 0\n",
    "        for b in range(RADIX):\n",
    "            buck = buckets[b]\n",
    "            for i in buck:\n",
    "                A[a] = i\n",
    "                a += 1\n",
    "        placement *= RADIX\n",
    "    return A\n",
    "A = [123, 987, 20, 66, 456, 777, 101]\n",
    "\n",
    "print(RadixSort(A))"
   ]
  }
 ],
 "metadata": {
  "kernelspec": {
   "display_name": "Python 3",
   "language": "python",
   "name": "python3"
  },
  "language_info": {
   "codemirror_mode": {
    "name": "ipython",
    "version": 3
   },
   "file_extension": ".py",
   "mimetype": "text/x-python",
   "name": "python",
   "nbconvert_exporter": "python",
   "pygments_lexer": "ipython3",
   "version": "3.7.3"
  }
 },
 "nbformat": 4,
 "nbformat_minor": 2
}
