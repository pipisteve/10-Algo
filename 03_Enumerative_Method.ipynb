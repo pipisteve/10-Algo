{
 "cells": [
  {
   "cell_type": "code",
   "execution_count": 4,
   "metadata": {},
   "outputs": [
    {
     "name": "stdout",
     "output_type": "stream",
     "text": [
      "[1, 4, 9, 16, 25, 36, 49, 64, 81, 100, 121, 144, 169, 196, 225, 256, 289, 324, 361, 400, 441, 484, 529, 576, 625, 676, 729, 784, 841, 900, 961, 1024, 1089, 1156, 1225, 1296, 1369, 1444, 1521, 1600, 1681, 1764, 1849, 1936, 2025, 2116, 2209, 2304, 2401, 2500, 2601, 2704, 2809, 2916, 3025, 3136, 3249, 3364, 3481, 3600, 3721, 3844, 3969, 4096, 4225, 4356, 4489, 4624, 4761, 4900, 5041, 5184, 5329, 5476, 5625, 5776, 5929, 6084, 6241, 6400, 6561, 6724, 6889, 7056, 7225, 7396, 7569, 7744, 7921, 8100, 8281, 8464, 8649, 8836, 9025, 9216, 9409, 9604, 9801, 10000]\n"
     ]
    }
   ],
   "source": [
    "### 枚舉法 (亦稱作窮舉法，分為枚舉、搜尋兩階段，可同時進行或先枚舉再搜尋)\n",
    "# 枚舉 enumerate\n",
    "# 搜尋 Search\n",
    "\n",
    "# 列出一百個平方數\n",
    "# 解法 1.枚舉 1-100，同時獲得每個數的平方數\n",
    "a = range(1, 100+1)\n",
    "b = []\n",
    "\n",
    "for a in a:\n",
    "    a = a ** 2\n",
    "    b.append(a)\n",
    "print(b)"
   ]
  },
  {
   "cell_type": "code",
   "execution_count": 10,
   "metadata": {},
   "outputs": [
    {
     "name": "stdout",
     "output_type": "stream",
     "text": [
      "[1, 4, 9, 16, 25, 36, 49, 64, 81, 100, 121, 144, 169, 196, 225, 256, 289, 324, 361, 400, 441, 484, 529, 576, 625, 676, 729, 784, 841, 900, 961, 1024, 1089, 1156, 1225, 1296, 1369, 1444, 1521, 1600, 1681, 1764, 1849, 1936, 2025, 2116, 2209, 2304, 2401, 2500, 2601, 2704, 2809, 2916, 3025, 3136, 3249, 3364, 3481, 3600, 3721, 3844, 3969, 4096, 4225, 4356, 4489, 4624, 4761, 4900, 5041, 5184, 5329, 5476, 5625, 5776, 5929, 6084, 6241, 6400, 6561, 6724, 6889, 7056, 7225, 7396, 7569, 7744, 7921, 8100, 8281, 8464, 8649, 8836, 9025, 9216, 9409, 9604, 9801, 10000]\n"
     ]
    }
   ],
   "source": [
    "# 解法 2.枚舉正整數，判斷是否為平方數\n",
    "c = range(1, 100*100+1)\n",
    "d = []\n",
    "\n",
    "for c in c:\n",
    "    if c ** 0.5 % 1 == 0:\n",
    "        d.append(c)\n",
    "print(d)"
   ]
  },
  {
   "cell_type": "code",
   "execution_count": 11,
   "metadata": {},
   "outputs": [
    {
     "name": "stdout",
     "output_type": "stream",
     "text": [
      "9\n"
     ]
    }
   ],
   "source": [
    "# 找出數列最大值:一邊瀏覽一邊比大小，存下最大值\n",
    "e = [3, 6, 9, (-8), 1]\n",
    "f = e[0]\n",
    "\n",
    "for e in e:\n",
    "    if e > f:\n",
    "        f = e\n",
    "print(f)"
   ]
  },
  {
   "cell_type": "code",
   "execution_count": 16,
   "metadata": {},
   "outputs": [
    {
     "name": "stdout",
     "output_type": "stream",
     "text": [
      "The index of 6 is 1\n",
      "6\n"
     ]
    }
   ],
   "source": [
    "# 找出數列裡的特定數字\n",
    "e = [3, 6, 9, (-8), 1]\n",
    "f = 6\n",
    "print('The index of 6 is', e.index(f))\n",
    "\n",
    "for e in e:\n",
    "    if e == f:\n",
    "        break\n",
    "print(f)"
   ]
  },
  {
   "cell_type": "code",
   "execution_count": 24,
   "metadata": {},
   "outputs": [
    {
     "name": "stdout",
     "output_type": "stream",
     "text": [
      "班上所有同學年齡: [36, 14, 54, 16, 36, 25, 27, 20, 29, 22, 21, 56, 37, 17, 34, 18, 34, 20, 38, 22]\n",
      "班上年齡最大的同學為: 56 座號為: 12\n"
     ]
    }
   ],
   "source": [
    "# 如何找到班上年紀最大的同學\n",
    "import random\n",
    "g = [] # 隨機生成班上 20 位同學年紀，生成順位即為座號\n",
    "for x in range (0, 20):\n",
    "    g.append(random.randint(10, 60)) # 假定年齡分布區間 10-60\n",
    "print('班上所有同學年齡:', g)\n",
    "\n",
    "i = 0\n",
    "for h in g:\n",
    "    if h > i:\n",
    "        i = h\n",
    "print('班上年齡最大的同學為:', i, '座號為:', g.index(i)+1)"
   ]
  },
  {
   "cell_type": "code",
   "execution_count": 88,
   "metadata": {},
   "outputs": [
    {
     "name": "stdout",
     "output_type": "stream",
     "text": [
      "[[3, 6, 9, -8, 1], [2, 4, 6, 8, 10], [11, 7, 5, 3, 2]]\n",
      "[3, 6, 9, -8, 1, 2, 4, 6, 8, 10, 11, 7, 5, 3, 2]\n",
      "2有在矩陣中，位置為 2 , 1\n"
     ]
    }
   ],
   "source": [
    "# 巢狀枚舉\n",
    "# 找出陣列裡的特定數字\n",
    "'''怎麼找出線的所有數?'''\n",
    "o = 2\n",
    "k = [[3, 6, 9, -8, 1], \n",
    "     [2, 4, 6, 8, 10],\n",
    "     [11, 7, 5, 3, 2]]\n",
    "print(k)\n",
    "\n",
    "l = []\n",
    "for m in k:\n",
    "    for n in m:\n",
    "        l.append(n)\n",
    "print(l)\n",
    "\n",
    "q = len(m)  \n",
    "r = l.index(o) + 1\n",
    "a = 0\n",
    "b = 0\n",
    "\n",
    "if r % q == 0:\n",
    "    b = q\n",
    "    a = int(r / q)\n",
    "else:\n",
    "    b = r % q\n",
    "    a = int(r / q) + 1\n",
    "print('%d有在矩陣中，位置為'%(o), a, ',', b)\n"
   ]
  },
  {
   "cell_type": "code",
   "execution_count": 167,
   "metadata": {
    "scrolled": true
   },
   "outputs": [
    {
     "name": "stdout",
     "output_type": "stream",
     "text": [
      "[[3, 3], [1, 5], [4, 6], [2, 8], [9, 9], [2, 1], [7, 2], [6, 5], [9, 4], [5, 9]]\n",
      "最近兩點為: [3, 3] [2, 1] 距離為: 2.23606797749979\n"
     ]
    }
   ],
   "source": [
    "# 距離最近的兩個點(closest pair problem)\n",
    "a = [[3,3], [1, 5], [4, 6], [2, 8], [9, 9], [2, 1], [7, 2], [6, 5], [9, 4], [5, 9]]\n",
    "print(a)\n",
    "distance1 = []\n",
    "distance2 = []\n",
    "dist = []\n",
    "ind = []\n",
    "\n",
    "for e in a:\n",
    "    x1 = e[0]\n",
    "    y1 = e[1]\n",
    "    for f in a:\n",
    "        x2 = f[0]\n",
    "        y2 = f[1]\n",
    "        if e != f:\n",
    "            d = ((x2-x1)**2 + (y2-y1)**2)**0.5\n",
    "            distance1.append(e)\n",
    "            distance2.append(f)\n",
    "            dist.append(d)\n",
    "\n",
    "md = min(dist)            \n",
    "\n",
    "m  = dist.index(md)\n",
    "print('最近兩點為:', distance1[m], distance2[m],'距離為:', md)"
   ]
  },
  {
   "cell_type": "code",
   "execution_count": 157,
   "metadata": {},
   "outputs": [
    {
     "name": "stdout",
     "output_type": "stream",
     "text": [
      "字串 It's a pencil. 長度為 14\n",
      "短字串 a pen 長度為 5\n",
      "短字串出現在字串中第 6 到 10 個字元\n"
     ]
    }
   ],
   "source": [
    "# 字串匹配(string matching)\n",
    "s = \"It's a pencil.\"\n",
    "a = \"a pen\"\n",
    "b = len(a)\n",
    "c = len(s)\n",
    "print('字串', s,'長度為', c)\n",
    "print('短字串', a,'長度為', b)\n",
    "if a in s:\n",
    "    for i in s:\n",
    "        if a[0] == i:\n",
    "            z = s.index(i)\n",
    "            if s[z:z+b] == a:\n",
    "                print('短字串出現在字串中第', z+1,'到', z+b, '個字元')"
   ]
  },
  {
   "cell_type": "code",
   "execution_count": 159,
   "metadata": {},
   "outputs": [
    {
     "name": "stdout",
     "output_type": "stream",
     "text": [
      "{'a': 0, 'b': 0, 'c': 0, 'd': 1, 'e': 1, 'f': 0, 'g': 0, 'h': 1, 'i': 0, 'j': 0, 'k': 0, 'l': 3, 'm': 0, 'n': 0, 'o': 2, 'p': 0, 'q': 0, 'r': 1, 's': 0, 't': 0, 'u': 0, 'v': 0, 'w': 1, 'x': 0, 'y': 0, 'z': 0}\n"
     ]
    }
   ],
   "source": [
    "# 統計字母出現次數\n",
    "a = []\n",
    "for w in range(ord('a'), ord('z') + 1):\n",
    "    a.append(chr(w))\n",
    "\n",
    "s = 'Hello World!'\n",
    "s = s.lower()\n",
    "s = s.strip('!')\n",
    "s = s.replace(\" \", \"\")\n",
    "\n",
    "res = {}\n",
    "for a in a:\n",
    "    res[a] = 0\n",
    "def count_each_char_1(string):\n",
    "    for i in string:\n",
    "        if i not in res:\n",
    "            res[i] = 1\n",
    "        else:\n",
    "            res[i] += 1\n",
    "    return res\n",
    " \n",
    "print(count_each_char_1(s))"
   ]
  }
 ],
 "metadata": {
  "kernelspec": {
   "display_name": "Python 3",
   "language": "python",
   "name": "python3"
  },
  "language_info": {
   "codemirror_mode": {
    "name": "ipython",
    "version": 3
   },
   "file_extension": ".py",
   "mimetype": "text/x-python",
   "name": "python",
   "nbconvert_exporter": "python",
   "pygments_lexer": "ipython3",
   "version": "3.7.3"
  }
 },
 "nbformat": 4,
 "nbformat_minor": 2
}
