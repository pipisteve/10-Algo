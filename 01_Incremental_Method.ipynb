{
 "cells": [
  {
   "cell_type": "code",
   "execution_count": 12,
   "metadata": {},
   "outputs": [
    {
     "name": "stdout",
     "output_type": "stream",
     "text": [
      "11\n"
     ]
    }
   ],
   "source": [
    "### 1-1 遞增法\n",
    "\n",
    "# 加總數字\n",
    "a = [3, 6, 9, (-8), 1]\n",
    "print(sum(a))"
   ]
  },
  {
   "cell_type": "code",
   "execution_count": 13,
   "metadata": {},
   "outputs": [
    {
     "name": "stdout",
     "output_type": "stream",
     "text": [
      "incremantal\n"
     ]
    }
   ],
   "source": [
    "# 複製字串\n",
    "so = 'incremantal'\n",
    "sn = so\n",
    "print(sn)"
   ]
  },
  {
   "cell_type": "code",
   "execution_count": 19,
   "metadata": {},
   "outputs": [
    {
     "name": "stdout",
     "output_type": "stream",
     "text": [
      "[-8, 1, 3, 6, 9]\n"
     ]
    }
   ],
   "source": [
    "# 選擇排序法 selection sort\n",
    "a.sort()\n",
    "print(a)"
   ]
  },
  {
   "cell_type": "code",
   "execution_count": 48,
   "metadata": {},
   "outputs": [
    {
     "name": "stdout",
     "output_type": "stream",
     "text": [
      "AAAAA\n",
      "AAAA\n",
      "AAA\n",
      "AA\n",
      "A\n"
     ]
    }
   ],
   "source": [
    "# 印出直角三角形\n",
    "i = [5, 4, 3, 2, 1]\n",
    "for i in i:\n",
    "    if i > 0:\n",
    "        print('A' * i)"
   ]
  },
  {
   "cell_type": "code",
   "execution_count": 49,
   "metadata": {},
   "outputs": [
    {
     "data": {
      "text/plain": [
       "9"
      ]
     },
     "execution_count": 49,
     "metadata": {},
     "output_type": "execute_result"
    }
   ],
   "source": [
    "# 找 linked list中最大值\n",
    "a = [7, 3, 9, 5, 1]\n",
    "max(a)"
   ]
  },
  {
   "cell_type": "code",
   "execution_count": 50,
   "metadata": {},
   "outputs": [
    {
     "name": "stdout",
     "output_type": "stream",
     "text": [
      "A\n",
      "AA\n",
      "AAA\n",
      "AAAA\n",
      "AAAAA\n"
     ]
    }
   ],
   "source": [
    "# 印出直角三角形\n",
    "i = [1, 2, 3, 4, 5]\n",
    "for i in i:\n",
    "    if i > 0:\n",
    "        print('A' * i)"
   ]
  },
  {
   "cell_type": "code",
   "execution_count": 79,
   "metadata": {},
   "outputs": [
    {
     "name": "stdout",
     "output_type": "stream",
     "text": [
      "  A\n",
      " AAA\n",
      "AAAAA\n",
      " AAA\n",
      "  A\n"
     ]
    }
   ],
   "source": [
    "# 印出菱形\n",
    "i = [1, 3, 5, 3, 1]\n",
    "for i in i:\n",
    "    if i < 5:\n",
    "        s = (5 - i) / 2\n",
    "        s = int(s)\n",
    "        print(' ' * s + 'A' * i)\n",
    "    elif i == 5:\n",
    "        print('A' * i)\n",
    "    else:\n",
    "        s = (5 - i) / 2\n",
    "        print(' ' * s + 'A' * i)    "
   ]
  },
  {
   "cell_type": "code",
   "execution_count": 81,
   "metadata": {},
   "outputs": [
    {
     "name": "stdout",
     "output_type": "stream",
     "text": [
      "hello world!\n"
     ]
    }
   ],
   "source": [
    "### one-pass / multi-pass\n",
    "# 印出轉換為小寫的字串\n",
    "s = 'Hello World!'\n",
    "print(s.lower())"
   ]
  },
  {
   "cell_type": "code",
   "execution_count": 146,
   "metadata": {},
   "outputs": [
    {
     "name": "stdout",
     "output_type": "stream",
     "text": [
      "[62, 74, 72, 34, 20, 5, 69, 70, 52, 6, 50, 11, 6, 68, 37, 12, 16, 28, 0, 22, 73, 83, 74, 63, 91, 55, 31, 68, 89, 20, 11, 61, 61, 57, 5, 49, 5, 65, 79, 83, 56, 60, 21, 67, 75, 17, 16, 87, 23, 66]\n",
      "調整分數前，及格人數為:  23 ；平均分數為:  46.5\n"
     ]
    }
   ],
   "source": [
    "### 想想看\n",
    "# 5.\n",
    "import random \n",
    "a = [random.randint(0, 100) for i in range(50)]\n",
    "print(a)\n",
    "l = len(a)\n",
    "s = sum(a) \n",
    "avg = s / l\n",
    "sc =[]\n",
    "for b in a:\n",
    "    if b >= 60:\n",
    "        sc.append(b)\n",
    "print('調整分數前，及格人數為: ', len(sc), '；平均分數為: ', avg)"
   ]
  },
  {
   "cell_type": "code",
   "execution_count": 147,
   "metadata": {},
   "outputs": [
    {
     "name": "stdout",
     "output_type": "stream",
     "text": [
      "[88.74007874011811, 96.02325267042627, 94.85281374238569, 68.309518948453, 54.721359549995796, 32.3606797749979, 93.06623862918075, 93.66600265340756, 82.11102550927978, 34.49489742783178, 80.71067811865476, 43.166247903553995, 34.49489742783178, 92.46211251235322, 70.8276253029822, 44.64101615137754, 50.0, 62.91502622129181, 10.0, 56.9041575982343, 95.44003745317531, 101.10433579144299, 96.02325267042627, 89.37253933193772, 105.39392014169457, 84.16198487095663, 65.67764362830022, 92.46211251235322, 104.33981132056603, 54.721359549995796, 43.166247903553995, 88.10249675906654, 88.10249675906654, 85.4983443527075, 32.3606797749979, 80.0, 32.3606797749979, 90.62257748298549, 98.88194417315589, 101.10433579144299, 84.83314773547883, 87.45966692414834, 55.8257569495584, 91.85352771872451, 96.60254037844388, 51.23105625617661, 50.0, 103.27379053088816, 57.958315233127195, 91.24038404635961]\n"
     ]
    }
   ],
   "source": [
    "# 6.平移分數：原始成績開根號乘十再加10\n",
    "c = []\n",
    "for b in a:\n",
    "    b = b ** 0.5 * 10 + 10\n",
    "    c.append(b)\n",
    "print(c)"
   ]
  },
  {
   "cell_type": "code",
   "execution_count": 149,
   "metadata": {},
   "outputs": [
    {
     "name": "stdout",
     "output_type": "stream",
     "text": [
      "[88, 96, 94, 68, 54, 32, 93, 93, 82, 34, 80, 43, 34, 92, 70, 44, 50, 62, 10, 56, 95, 100, 96, 89, 100, 84, 65, 92, 100, 54, 43, 88, 88, 85, 32, 80, 32, 90, 98, 100, 84, 87, 55, 91, 96, 51, 50, 100, 57, 91]\n"
     ]
    }
   ],
   "source": [
    "# 8.有送分題所以原始分數會超過100\n",
    "e = []\n",
    "for i in c:\n",
    "    i = int(i)\n",
    "    if i > 100:\n",
    "        i = 100\n",
    "    e.append(i)\n",
    "print(e)"
   ]
  },
  {
   "cell_type": "code",
   "execution_count": 150,
   "metadata": {},
   "outputs": [
    {
     "name": "stdout",
     "output_type": "stream",
     "text": [
      "[88, 95, 94, 68, 54, 50, 93, 93, 82, 50, 80, 50, 50, 92, 70, 50, 50, 62, 50, 56, 95, 95, 95, 89, 95, 84, 65, 92, 95, 54, 50, 88, 88, 85, 50, 80, 50, 90, 95, 95, 84, 87, 55, 91, 95, 51, 50, 95, 57, 91]\n"
     ]
    }
   ],
   "source": [
    "# 7.scale頭尾，希望q0=50, q100=95\n",
    "d = []\n",
    "for c in e:\n",
    "    c = int(c)\n",
    "    if c > 95:\n",
    "        c = 95\n",
    "    elif c < 50:\n",
    "        c = 50\n",
    "    d.append(c)    \n",
    "print(d)"
   ]
  },
  {
   "cell_type": "code",
   "execution_count": 151,
   "metadata": {},
   "outputs": [
    {
     "name": "stdout",
     "output_type": "stream",
     "text": [
      "調整分數前，及格人數為:  23 ；平均分數為:  46.5\n",
      "調整分數後，及格人數為:  33 ；平均分數為:  75.26\n"
     ]
    }
   ],
   "source": [
    "# 9.調整分數前後都要印出及格人數跟平均值\n",
    "p = []\n",
    "sn = sum(d)\n",
    "avgn = sn / l\n",
    "for d in d:\n",
    "    d = int(d)\n",
    "    if d > 60:\n",
    "        p.append(d)\n",
    "pp = len(p)\n",
    "print('調整分數前，及格人數為: ', len(sc), '；平均分數為: ', avg)\n",
    "print('調整分數後，及格人數為: ', pp, '；平均分數為: ', avgn)"
   ]
  },
  {
   "cell_type": "code",
   "execution_count": null,
   "metadata": {},
   "outputs": [],
   "source": []
  }
 ],
 "metadata": {
  "kernelspec": {
   "display_name": "Python 3",
   "language": "python",
   "name": "python3"
  },
  "language_info": {
   "codemirror_mode": {
    "name": "ipython",
    "version": 3
   },
   "file_extension": ".py",
   "mimetype": "text/x-python",
   "name": "python",
   "nbconvert_exporter": "python",
   "pygments_lexer": "ipython3",
   "version": "3.7.3"
  }
 },
 "nbformat": 4,
 "nbformat_minor": 2
}
