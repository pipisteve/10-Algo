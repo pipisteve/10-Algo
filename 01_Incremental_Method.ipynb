{
 "cells": [
  {
   "cell_type": "code",
   "execution_count": 1,
   "metadata": {},
   "outputs": [
    {
     "name": "stdout",
     "output_type": "stream",
     "text": [
      "11\n",
      "11\n"
     ]
    }
   ],
   "source": [
    "### 1-1 遞增法\n",
    "\n",
    "# 加總數字\n",
    "a = [3, 6, 9, (-8), 1]\n",
    "print(sum(a))\n",
    "\n",
    "result = 0\n",
    "for i in a:\n",
    "    result += i\n",
    "print(result)"
   ]
  },
  {
   "cell_type": "code",
   "execution_count": 3,
   "metadata": {},
   "outputs": [
    {
     "name": "stdout",
     "output_type": "stream",
     "text": [
      "incremantal\n"
     ]
    }
   ],
   "source": [
    "# 複製字串\n",
    "so = 'incremantal'\n",
    "sn = []\n",
    "for char in so:\n",
    "    sn += char\n",
    "print(\"\".join(sn))"
   ]
  },
  {
   "cell_type": "code",
   "execution_count": 5,
   "metadata": {},
   "outputs": [
    {
     "name": "stdout",
     "output_type": "stream",
     "text": [
      "[-8, 1, 3, 6, 9]\n"
     ]
    }
   ],
   "source": [
    "# 選擇排序法 selection sort\n",
    "a.sort()\n",
    "\n",
    "n = len(a)\n",
    "for i in range(n):\n",
    "    idx = i\n",
    "    for j in range(i,n):\n",
    "        if a[j] < a[i]:\n",
    "            idx = j\n",
    "    a[i], a[idx] = a[idx], a[i]\n",
    "\n",
    "print(a)"
   ]
  },
  {
   "cell_type": "code",
   "execution_count": 48,
   "metadata": {},
   "outputs": [
    {
     "name": "stdout",
     "output_type": "stream",
     "text": [
      "AAAAA\n",
      "AAAA\n",
      "AAA\n",
      "AA\n",
      "A\n"
     ]
    }
   ],
   "source": [
    "# 印出直角三角形\n",
    "i = [5, 4, 3, 2, 1]\n",
    "for i in i:\n",
    "    if i > 0:\n",
    "        print('A' * i)"
   ]
  },
  {
   "cell_type": "code",
   "execution_count": 14,
   "metadata": {},
   "outputs": [
    {
     "name": "stdout",
     "output_type": "stream",
     "text": [
      "7\n",
      "3\n",
      "9\n",
      "5\n",
      "1\n",
      "max: 9\n"
     ]
    }
   ],
   "source": [
    "# 找 linked list中最大值\n",
    "a = [7, 3, 9, 5, 1]\n",
    "#max(a)\n",
    "class Node:\n",
    "    value = 0\n",
    "    next = None\n",
    "\n",
    "    def __init__(self, value):\n",
    "        self.value = value\n",
    "    \n",
    "def build_linked_list(input_list):\n",
    "    root = Node(input_list[0])\n",
    "    node = root\n",
    "    for i in range(1, len(input_list), 1):\n",
    "        node.next = Node(input_list[i])\n",
    "        node = node.next\n",
    "    return root\n",
    "\n",
    "def print_linked_list(root):\n",
    "    node = root\n",
    "    while node:\n",
    "        print(node.value)\n",
    "        node = node.next\n",
    "\n",
    "def find_max_node(root):\n",
    "    node = root\n",
    "    result = float('-inf')\n",
    "    while node:\n",
    "        if node.value > result:\n",
    "            result = node.value\n",
    "        node = node.next\n",
    "    return result\n",
    "        \n",
    "ll_a = build_linked_list(a)\n",
    "print_linked_list(ll_a)\n",
    "print(f\"max: {find_max_node(ll_a)}\")\n"
   ]
  },
  {
   "cell_type": "code",
   "execution_count": 16,
   "metadata": {},
   "outputs": [
    {
     "name": "stdout",
     "output_type": "stream",
     "text": [
      "AAAAA\n",
      "AAAA\n",
      "AAA\n",
      "AA\n",
      "A\n",
      "\n",
      "\n",
      "A\n",
      "AA\n",
      "AAA\n",
      "AAAA\n",
      "AAAAA\n"
     ]
    }
   ],
   "source": [
    "# 印出直角三角形\n",
    "n = 5\n",
    "# Decreasing\n",
    "for i in range(n,0, -1):\n",
    "    print('A' * i)\n",
    "\n",
    "print(\"\\n\")\n",
    "\n",
    "# Increasing\n",
    "for i in range(1, n+1):\n",
    "    print('A' * i)\n"
   ]
  },
  {
   "cell_type": "code",
   "execution_count": 22,
   "metadata": {},
   "outputs": [
    {
     "name": "stdout",
     "output_type": "stream",
     "text": [
      "  A\n",
      " AAA\n",
      "AAAAA\n",
      " AAA\n",
      "  A\n"
     ]
    }
   ],
   "source": [
    "# 印出菱形, assume n is an odd number\n",
    "n = 5\n",
    "for i in range(1, n+1, 2):\n",
    "    print(' ' * (int)((n-i) / 2) + 'A' * i) \n",
    "for i in range(n-2, 0, -2):\n",
    "    print(' ' * (int)((n-i) / 2) + 'A' * i)\n"
   ]
  },
  {
   "cell_type": "code",
   "execution_count": 27,
   "metadata": {},
   "outputs": [
    {
     "name": "stdout",
     "output_type": "stream",
     "text": [
      "hello world!\n",
      "hello world!\n",
      "hello world!\n"
     ]
    }
   ],
   "source": [
    "### one-pass / multi-pass\n",
    "# 印出轉換為小寫的字串\n",
    "s = 'Hello World!'\n",
    "# Built-in function\n",
    "print(s.lower())\n",
    "# one-pass\n",
    "base_A = ord('A')\n",
    "base_Z = ord('Z')\n",
    "base_a = ord('a')\n",
    "diff = base_a - base_A\n",
    "print(''.join([chr(ord(c)+diff) if ord(c) <= base_Z and ord(c)>=base_A else c for c in s]))\n",
    "\n",
    "# multi-pass\n",
    "result = []\n",
    "for c in s:\n",
    "    if ord(c) <= base_Z and ord(c) >= base_A:\n",
    "        result.append(chr(ord(c) + diff))\n",
    "    else:\n",
    "        result.append(c)\n",
    "print(''.join(result))\n"
   ]
  },
  {
   "cell_type": "code",
   "execution_count": 31,
   "metadata": {},
   "outputs": [
    {
     "name": "stdout",
     "output_type": "stream",
     "text": [
      "[7, 44, 2, 15, 60, 75, 91, 19, 83, 100, 86, 75, 42, 88, 1, 26, 66, 25, 25, 19, 58, 46, 83, 51, 52, 53, 41, 38, 78, 38, 71, 44, 73, 40, 21, 69, 57, 4, 93, 30, 52, 44, 52, 45, 58, 27, 68, 1, 44, 87]\n",
      "One-pass. 調整分數前，及格人數為: 17；平均分數為: 49.34\n",
      "Multi-pass. 調整分數前，及格人數為: 17；平均分數為: 49.34000000000001\n"
     ]
    }
   ],
   "source": [
    "### 想想看\n",
    "import random \n",
    "n = 50\n",
    "a = [random.randint(0, 150) for i in range(n)]\n",
    "print(a)\n",
    "\n",
    "# One pass\n",
    "pass_count = 0\n",
    "sum_score = 0\n",
    "for s in a:\n",
    "    sum_score += s\n",
    "    if s >= 60:\n",
    "        pass_count += 1\n",
    "avg_score = sum_score / n\n",
    "print(f\"One-pass. 調整分數前，及格人數為: {pass_count}；平均分數為: {avg_score}\")\n",
    "\n",
    "\n",
    "# Multi pass\n",
    "pass_count = sum([1 if s >= 60 else 0 for s in a])\n",
    "avg_score = sum([s/n for s in a])\n",
    "\n",
    "print(f\"Multi-pass. 調整分數前，及格人數為: {pass_count}；平均分數為: {avg_score}\")"
   ]
  },
  {
   "cell_type": "code",
   "execution_count": 36,
   "metadata": {},
   "outputs": [
    {
     "name": "stdout",
     "output_type": "stream",
     "text": [
      "One-pass: Adjusted score [36.457513110645905, 76.33249580710799, 24.14213562373095, 48.72983346207417, 87.45966692414834, 96.60254037844388, 105.39392014169457, 53.58898943540674, 101.10433579144299, 110.0, 102.73618495495704, 96.60254037844388, 74.8074069840786, 103.8083151964686, 20.0, 60.99019513592785, 91.24038404635961, 60.0, 60.0, 53.58898943540674, 86.15773105863909, 77.82329983125268, 101.10433579144299, 81.41428428542851, 82.11102550927978, 82.80109889280519, 74.03124237432849, 71.64414002968977, 98.31760866327848, 71.64414002968977, 94.2614977317636, 76.33249580710799, 95.44003745317531, 73.24555320336759, 55.8257569495584, 93.06623862918075, 85.4983443527075, 30.0, 106.43650760992955, 64.77225575051662, 82.11102550927978, 76.33249580710799, 82.11102550927978, 77.0820393249937, 86.15773105863909, 61.96152422706632, 92.46211251235322, 20.0, 76.33249580710799, 103.27379053088816]\n",
      "Multi-pass: Adjusted score [36.457513110645905, 76.33249580710799, 24.14213562373095, 48.72983346207417, 87.45966692414834, 96.60254037844388, 105.39392014169457, 53.58898943540674, 101.10433579144299, 110.0, 102.73618495495704, 96.60254037844388, 74.8074069840786, 103.8083151964686, 20.0, 60.99019513592785, 91.24038404635961, 60.0, 60.0, 53.58898943540674, 86.15773105863909, 77.82329983125268, 101.10433579144299, 81.41428428542851, 82.11102550927978, 82.80109889280519, 74.03124237432849, 71.64414002968977, 98.31760866327848, 71.64414002968977, 94.2614977317636, 76.33249580710799, 95.44003745317531, 73.24555320336759, 55.8257569495584, 93.06623862918075, 85.4983443527075, 30.0, 106.43650760992955, 64.77225575051662, 82.11102550927978, 76.33249580710799, 82.11102550927978, 77.0820393249937, 86.15773105863909, 61.96152422706632, 92.46211251235322, 20.0, 76.33249580710799, 103.27379053088816]\n"
     ]
    }
   ],
   "source": [
    "# 6.平移分數：原始成績開根號乘十再加10\n",
    "\n",
    "# One-pass\n",
    "adj_scores = [s ** 0.5 * 10 + 10 for s in a]\n",
    "print(f\"One-pass: Adjusted score {adj_scores}\")\n",
    "\n",
    "# Multi-pass\n",
    "tmp_scores = [s ** 0.5 for s in a]\n",
    "adj_scores = [s * 10 + 10 for s in tmp_scores]\n",
    "print(f\"Multi-pass: Adjusted score {adj_scores}\")"
   ]
  },
  {
   "cell_type": "code",
   "execution_count": 39,
   "metadata": {},
   "outputs": [
    {
     "name": "stdout",
     "output_type": "stream",
     "text": [
      "Multi-pass: Adjusted score [50, 76.33249580710799, 50, 50, 87.45966692414834, 95, 95, 53.58898943540674, 95, 95, 95, 95, 74.8074069840786, 95, 50, 60.99019513592785, 91.24038404635961, 60.0, 60.0, 53.58898943540674, 86.15773105863909, 77.82329983125268, 95, 81.41428428542851, 82.11102550927978, 82.80109889280519, 74.03124237432849, 71.64414002968977, 95, 71.64414002968977, 94.2614977317636, 76.33249580710799, 95, 73.24555320336759, 55.8257569495584, 93.06623862918075, 85.4983443527075, 50, 95, 64.77225575051662, 82.11102550927978, 76.33249580710799, 82.11102550927978, 77.0820393249937, 86.15773105863909, 61.96152422706632, 92.46211251235322, 50, 76.33249580710799, 95]\n"
     ]
    }
   ],
   "source": [
    "# 7. 不足50分算50分, 超過 95 分算 95 分\n",
    "\n",
    "adj_scores = [50 if s < 50 else s for s in adj_scores]\n",
    "adj_scores = [95 if s > 95 else s for s in adj_scores]\n",
    "\n",
    "print(f\"Multi-pass: Adjusted score {adj_scores}\")"
   ]
  },
  {
   "cell_type": "code",
   "execution_count": 56,
   "metadata": {},
   "outputs": [
    {
     "name": "stdout",
     "output_type": "stream",
     "text": [
      "[50, 76, 50, 50, 87, 95, 95, 53, 95, 95, 95, 95, 74, 95, 50, 60, 91, 60, 60, 53, 86, 77, 95, 81, 82, 82, 74, 71, 95, 71, 94, 76, 95, 73, 55, 93, 85, 50, 95, 64, 82, 76, 82, 77, 86, 61, 92, 50, 76, 95]\n"
     ]
    }
   ],
   "source": [
    "# 8.有送分題所以原始分數會超過100\n",
    "def get_adjust_scores(scores):\n",
    "    adj_scores = [(int)(s ** 0.5 * 10 + 10) for s in scores]\n",
    "    adj_scores = [50 if s < 50 else s for s in adj_scores]\n",
    "    adj_scores = [95 if s > 95 else s for s in adj_scores]\n",
    "    return adj_scores\n",
    "\n",
    "b = [100 if s > 100 else s for s in a]\n",
    "result = get_adjust_scores(b)\n",
    "print(result)"
   ]
  },
  {
   "cell_type": "code",
   "execution_count": 54,
   "metadata": {
    "scrolled": true
   },
   "outputs": [
    {
     "name": "stdout",
     "output_type": "stream",
     "text": [
      "[50, 76, 50, 50, 87, 95, 95, 53, 95, 95, 95, 95, 74, 95, 50, 60, 91, 60, 60, 53, 86, 77, 95, 81, 82, 82, 74, 71, 95, 71, 94, 76, 95, 73, 55, 93, 85, 50, 95, 64, 82, 76, 82, 77, 86, 61, 92, 50, 76, 95]\n"
     ]
    }
   ],
   "source": [
    "# 7.scale頭尾，希望q0=50, q100=95\n",
    "d = []\n",
    "for c in e:\n",
    "    c = int(c)\n",
    "    if c > 95:\n",
    "        c = 95\n",
    "    elif c < 50:\n",
    "        c = 50\n",
    "    d.append(c)\n",
    "print(d)"
   ]
  },
  {
   "cell_type": "code",
   "execution_count": 62,
   "metadata": {},
   "outputs": [
    {
     "name": "stdout",
     "output_type": "stream",
     "text": [
      "Multi-pass. 調整分數前，及格人數為: 17；平均分數為: 49.34000000000001\n",
      "Multi-pass. 調整分數後，及格人數為: 41；平均分數為: 77.00000000000001\n"
     ]
    }
   ],
   "source": [
    "# 9.調整分數前後都要印出及格人數跟平均值\n",
    "def get_stats(scores):\n",
    "    pass_count = sum([1 if s >= 60 else 0 for s in scores])\n",
    "    avg_score = sum([s / len(scores) for s in scores])\n",
    "    return pass_count, avg_score\n",
    "\n",
    "pass_count, avg_score = get_stats(b)\n",
    "print(f\"Multi-pass. 調整分數前，及格人數為: {pass_count}；平均分數為: {avg_score}\")\n",
    "\n",
    "pass_count, avg_score = get_stats(result)\n",
    "print(f\"Multi-pass. 調整分數後，及格人數為: {pass_count}；平均分數為: {avg_score}\")"
   ]
  },
  {
   "cell_type": "code",
   "execution_count": null,
   "metadata": {},
   "outputs": [],
   "source": [
    "# 10. 使用 one-pass 實作上述的東西\n",
    "pass_count_before = 0\n",
    "pass_count_after = 0\n",
    "sum_before = 0\n",
    "sum_after = 0\n",
    "for s in a:\n",
    "    if s > 100:\n",
    "        s = 100\n",
    "    sum_before += s\n",
    "    if s >= 60:\n",
    "        pass_count_before += 1\n",
    "    \n",
    "    s = (int)(s ** 0.5 * 10 + 10)\n",
    "    if s < 50:\n",
    "        s = 50\n",
    "    elif s > 95:\n",
    "        s = 95\n",
    "    \n",
    "    sum_after += s\n",
    "    if s >= 60:\n",
    "        pass_count_after += 1\n",
    "\n",
    "print(f\"Multi-pass. 調整分數前，及格人數為: {pass_count_before}；平均分數為: {avg_score}\")\n",
    "\n",
    "pass_count, avg_score = get_stats(result)\n",
    "print(f\"Multi-pass. 調整分數後，及格人數為: {pass_count_after}；平均分數為: {avg_score}\")"
   ]
  }
 ],
 "metadata": {
  "kernelspec": {
   "display_name": "Python 3 (ipykernel)",
   "language": "python",
   "name": "python3"
  },
  "language_info": {
   "codemirror_mode": {
    "name": "ipython",
    "version": 3
   },
   "file_extension": ".py",
   "mimetype": "text/x-python",
   "name": "python",
   "nbconvert_exporter": "python",
   "pygments_lexer": "ipython3",
   "version": "3.7.7"
  }
 },
 "nbformat": 4,
 "nbformat_minor": 2
}
