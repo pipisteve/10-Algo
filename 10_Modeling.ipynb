{
 "cells": [
  {
   "cell_type": "code",
   "execution_count": 9,
   "metadata": {},
   "outputs": [
    {
     "name": "stdout",
     "output_type": "stream",
     "text": [
      "第1個殺掉的人為： 戊\n",
      "第2個殺掉的人為： 乙\n",
      "第3個殺掉的人為： 辛\n",
      "第4個殺掉的人為： 庚\n",
      "第5個殺掉的人為： 甲\n",
      "第6個殺掉的人為： 丁\n",
      "第7個殺掉的人為： 己\n",
      "Survivor: 丙\n"
     ]
    }
   ],
   "source": [
    "### 套用模型\n",
    "# Josephus Problem\n",
    "a = ['甲', '乙', '丙', '丁', '戊', '己', '庚', '辛']\n",
    "def josephus(ls, skip):\n",
    "    skip -= 1 # pop automatically skips the dead guy\n",
    "    idx = skip\n",
    "    i = 1\n",
    "    while len(ls) > 1:\n",
    "        print('第%d個殺掉的人為：'%i, ls.pop(idx)) # kill prisoner at idx\n",
    "        idx = (idx + skip) % len(ls)\n",
    "        i += 1\n",
    "    print('Survivor:', ls[0])\n",
    "josephus(a, 5)"
   ]
  },
  {
   "cell_type": "code",
   "execution_count": 10,
   "metadata": {},
   "outputs": [
    {
     "name": "stdout",
     "output_type": "stream",
     "text": [
      "35\n"
     ]
    }
   ],
   "source": [
    "# coin change problem\n",
    "\n",
    "# Returns the count of ways we can sum \n",
    "# S[0...m-1] coins to get sum n \n",
    "def count(S, m, n): \n",
    "  \n",
    "    # If n is 0 then there is 1 \n",
    "    # solution (do not include any coin) \n",
    "    if (n == 0): \n",
    "        return 1\n",
    "  \n",
    "    # If n is less than 0 then no \n",
    "    # solution exists \n",
    "    if (n < 0): \n",
    "        return 0; \n",
    "  \n",
    "    # If there are no coins and n \n",
    "    # is greater than 0, then no \n",
    "    # solution exist \n",
    "    if (m <= 0 and n >= 1): \n",
    "        return 0\n",
    "  \n",
    "    # count is sum of solutions (i)  \n",
    "    # including S[m-1] (ii) excluding S[m-1] \n",
    "    return count(S, m - 1, n) + count(S, m, n-S[m-1]); \n",
    "  \n",
    "# Driver program to test above function \n",
    "arr = [3, 7, 8] \n",
    "m = len(arr) \n",
    "print(count(arr, m, 100)) "
   ]
  },
  {
   "cell_type": "code",
   "execution_count": 12,
   "metadata": {},
   "outputs": [
    {
     "name": "stdout",
     "output_type": "stream",
     "text": [
      "540\n"
     ]
    }
   ],
   "source": [
    "# 多邊形內角和\n",
    "def angle(a):\n",
    "    b = (a - 2)*180\n",
    "    return b\n",
    "\n",
    "print(angle(5))"
   ]
  }
 ],
 "metadata": {
  "kernelspec": {
   "display_name": "Python 3",
   "language": "python",
   "name": "python3"
  },
  "language_info": {
   "codemirror_mode": {
    "name": "ipython",
    "version": 3
   },
   "file_extension": ".py",
   "mimetype": "text/x-python",
   "name": "python",
   "nbconvert_exporter": "python",
   "pygments_lexer": "ipython3",
   "version": "3.7.3"
  }
 },
 "nbformat": 4,
 "nbformat_minor": 2
}
