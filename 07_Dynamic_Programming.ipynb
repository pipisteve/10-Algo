{
 "cells": [
  {
   "cell_type": "code",
   "execution_count": 1,
   "metadata": {},
   "outputs": [
    {
     "name": "stdout",
     "output_type": "stream",
     "text": [
      "93326215443944152681699238856266700490715968264381621468592963895217599993229915608941463976156518286253697920827223758251185210916864000000000000000000000000\n"
     ]
    }
   ],
   "source": [
    "### 動態規劃 = Divide and Conquer + Memoization\n",
    "\n",
    "# factorial \n",
    "n = 100\n",
    "n = n + 1\n",
    "b = 1\n",
    "for a in range(1, n):\n",
    "    b = a * b\n",
    "print(b)"
   ]
  },
  {
   "cell_type": "code",
   "execution_count": 26,
   "metadata": {},
   "outputs": [
    {
     "name": "stdout",
     "output_type": "stream",
     "text": [
      "252\n"
     ]
    }
   ],
   "source": [
    "# 10人抓5人出來組團 不重複組合\n",
    "from math import factorial\n",
    "n = 10\n",
    "m = 5\n",
    "b = n\n",
    "c = factorial(m)\n",
    "for a in range(1, m):\n",
    "    b = (n - a)*b\n",
    "b = b/c\n",
    "b = int(b)\n",
    "print(b)"
   ]
  },
  {
   "cell_type": "code",
   "execution_count": 22,
   "metadata": {},
   "outputs": [
    {
     "name": "stdout",
     "output_type": "stream",
     "text": [
      "[1]\n",
      "[1, 1]\n",
      "[1, 2, 1]\n",
      "[1, 3, 3, 1]\n",
      "[1, 4, 6, 4, 1]\n",
      "[1, 5, 10, 10, 5, 1]\n",
      "[1, 6, 15, 20, 15, 6, 1]\n",
      "[1, 7, 21, 35, 35, 21, 7, 1]\n",
      "[1, 8, 28, 56, 70, 56, 28, 8, 1]\n",
      "[1, 9, 36, 84, 126, 126, 84, 36, 9, 1]\n"
     ]
    },
    {
     "data": {
      "text/plain": [
       "True"
      ]
     },
     "execution_count": 22,
     "metadata": {},
     "output_type": "execute_result"
    }
   ],
   "source": [
    "# 10層巴斯卡三角形\n",
    "def pascal(n):\n",
    "    row = [1]\n",
    "    k = [0]\n",
    "    for x in range(max(n,0)):\n",
    "        print(row)\n",
    "        row = [l+r for l,r in zip(row+k,k+row)]\n",
    "    return n >= 1\n",
    "pascal(10)"
   ]
  },
  {
   "cell_type": "code",
   "execution_count": 28,
   "metadata": {},
   "outputs": [
    {
     "name": "stdout",
     "output_type": "stream",
     "text": [
      "420\n"
     ]
    }
   ],
   "source": [
    "# 0-1 Knapsack Problem \n",
    "  \n",
    "# Returns the maximum value that can be put in a knapsack of capacity W \n",
    "def knapSack(W , wt , val , n): \n",
    "    # Base Case \n",
    "    if n == 0 or W == 0 : \n",
    "        return 0\n",
    "  \n",
    "    # If weight of the nth item is more than Knapsack of capacity W, \n",
    "    # then this item cannot be included in the optimal solution \n",
    "    if (wt[n-1] > W): \n",
    "        return knapSack(W , wt , val , n-1) \n",
    "  \n",
    "    # return the maximum of two cases: \n",
    "    # (1) nth item included \n",
    "    # (2) nth item not included \n",
    "    else: \n",
    "        return max(val[n-1] + knapSack(W - wt[n-1] , wt , val , n - 1), \n",
    "                   knapSack(W , wt , val , n-1)) \n",
    "\n",
    "val = [400, 150, 150, 120] \n",
    "wt = [850, 300, 500, 200] \n",
    "W = 1000\n",
    "n = len(val) \n",
    "print(knapSack(W , wt , val , n))\n"
   ]
  },
  {
   "cell_type": "code",
   "execution_count": 30,
   "metadata": {},
   "outputs": [
    {
     "name": "stdout",
     "output_type": "stream",
     "text": [
      "720\n"
     ]
    }
   ],
   "source": [
    "# Hamilton Path\n",
    "n = 7\n",
    "n = (n-1)\n",
    "p = factorial(n)\n",
    "print(p)"
   ]
  },
  {
   "cell_type": "code",
   "execution_count": null,
   "metadata": {},
   "outputs": [],
   "source": [
    "def hamilton(G, size, pt, path=[]):\n",
    "    print('hamilton called with pt={}, path={}'.format(pt, path))\n",
    "    if pt not in set(path):\n",
    "        path.append(pt)\n",
    "        if len(path)==size:\n",
    "            return path\n",
    "        for pt_next in G.get(pt, []):\n",
    "            res_path = [i for i in path]\n",
    "            candidate = hamilton(G, size, pt_next, res_path)\n",
    "            if candidate is not None:  # skip loop or dead end\n",
    "                return candidate\n",
    "        print('path {} is a dead end'.format(path))\n",
    "    else:\n",
    "        print('pt {} already in path {}'.format(pt, path))\n",
    "    # loop or dead end, None is implicitly returned"
   ]
  }
 ],
 "metadata": {
  "kernelspec": {
   "display_name": "Python 3",
   "language": "python",
   "name": "python3"
  },
  "language_info": {
   "codemirror_mode": {
    "name": "ipython",
    "version": 3
   },
   "file_extension": ".py",
   "mimetype": "text/x-python",
   "name": "python",
   "nbconvert_exporter": "python",
   "pygments_lexer": "ipython3",
   "version": "3.7.3"
  }
 },
 "nbformat": 4,
 "nbformat_minor": 2
}
